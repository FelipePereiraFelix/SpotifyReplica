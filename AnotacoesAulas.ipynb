{
 "cells": [
  {
   "cell_type": "markdown",
   "metadata": {},
   "source": [
    "## Obs: Tentei deixar o mais descritivo possível\n",
    "\n",
    "Adicionei várias informações nos próprios códigos através de comentários para saber mais ou menos o que cada coisa faz, mas minha dica é que vocês sejam curiosos e procurem saber o que cada coisa faz, principalmente em CSS. Eu tive que resolver muitos erros a mão, então minha dica é que você transcreva o que fiz, mas de seus toques, façam seus ajustes."
   ]
  },
  {
   "cell_type": "markdown",
   "metadata": {},
   "source": [
    "# Aula 1: Revisão HTML, CSS E Javascript na Prática\n",
    "\n",
    "### HTML:\n",
    "\n",
    "Aprendemos a criar os conjuntos de código base do HTML no arquivo \"index.html\n",
    "\n",
    "O desafio era simples, colocar um título, um parágrafo e uma imagem que no caso é a imagem \"html.png\"\n",
    "\n",
    "\n",
    "O porque do !DOCTYPE html, porque se não ele entra no modo \"Quircks\" e gera uma \"Issue\" no site.\n",
    "\n",
    "O Emmet é algo de extrema importância dentro do HTML e CSS, um exemplo disso é o: ul>li*3 ao digitar, o Emmet criará automaticamente uma lista não ordenada (ul) com três itens de lista (li).\n",
    "\n",
    ">> Caso necessário baixe a extensão do \"Emmet\" no VSCode dps.\n",
    "\n",
    "### Como usar o Emmet\n",
    "\n",
    "Com o Emmet instalado, você pode começar a utilizar suas abreviações para acelerar o desenvolvimento. Algumas abreviações comuns incluem:\n",
    "\n",
    "html: Gera a estrutura básica de um documento HTML.\n",
    "\n",
    "ul>li*5: Cria uma lista não ordenada com cinco itens de lista.\n",
    "\n",
    "div>h1+p: Cria uma div contendo um cabeçalho (h1) seguido de um parágrafo (p).\n",
    "\n",
    "input[type=text]+input[type=password]: Cria dois campos de entrada, um para texto e outro para senha.\n",
    "\n",
    "Essas são apenas algumas das muitas abreviações que o Emmet oferece. À medida que você se familiariza com as abreviações, sua produtividade aumentará significativamente.\n",
    "\n",
    "**Observações importantes❗** \n",
    "\n",
    "- Separei os arquivos para fácil entendimento da cada um, \"ProjetoSpotify\" é o principal da Imersão Alura.\n",
    "- Caso você precise de uma descrição detalhada sobre como fazer as primeirs linhas de código em HTML e CSS, recomendo que procure alguns cursos gratuitos no Youtube para entender pelo menos o básico de HTML e Css. Para que você possa entendder os códigos que citei aqui.\n",
    "- Eu não expliquei detalhadamente como funciona estes códigos porque eu já entendo como funciona o básico, então deixarei aqui em geral apenas anotações que me forem interessantes, ou importantes de modo geral.\n",
    "\n",
    "## Projeto Spotify\n",
    "\n",
    "Coisas **importantes** para serem deixadas claro aqui:\n",
    "\n",
    "- Html: Estrutura e esqueleto do site, como se fosse o esqueleto mesmo do corpo. \n",
    "- CSS: Estilo, animação e outras coisas voltadas para parte visual e bonita da página. Este é o corpo, que nos cuidamos, a parte bonita visual.\n",
    "- Javascript: Dinamismo, fazer a tela se comunicar com o usuário no aplicativo. Aqui seria como se fosse o cerébro. \n",
    "\n",
    "Está foi uma aula de revisão. \n",
    "\n",
    "### Conteúdo Extra Aula 1\n",
    "\n",
    "A Luri: Ia da Alura. Geralmente conteúdos voltados pra ensinar como se utilza o \n",
    "\n"
   ]
  },
  {
   "cell_type": "markdown",
   "metadata": {},
   "source": [
    "# Aula 2: Estilo Avançado e Posicionamento: Transformando Layouts.\n",
    "\n",
    "Aqui, aprendemos com utilizar de mais flex box e outros conteúdos a mais, foram colocadas informações na área de Biblioteca, alinhamentos, ajustes de algumas Divs e outras coisas mais.\n",
    "\n",
    "**Obs**: Aqui houve alguns erros, e desalinhamentos no meu código, mas arrumei para ficar mais ajustado. Pode haver diferenças com o código da Aula da Imersão Alura Front-End, mas como o propósito e justamente o aprendizado, estive me virando e construindo outras coisas para que ficasse mais ajustado. \n",
    "\n",
    "## Notas para mim:\n",
    "\n",
    "Devo ajustar depois o Rodapé, deixa-lo mais bonito e ajustado corretamente.\n",
    "\n",
    "### Anotações importantes:\n",
    "\n",
    "**CSS**: O uso do \"border-radius\" serve para deixar as bordas dos botões arredondadas. E o \"flex-direction: column;\" serve para deixar algo em forma de coluna, ao invés de ser um ao lado do outro, fica um em baixo do Outro.\n"
   ]
  },
  {
   "cell_type": "markdown",
   "metadata": {},
   "source": [
    "# Aula 3: Layout Flexbox, Pseudo-Classes e Responsividade em CSS.\n",
    "\n",
    "Criamos um novo arquivo css com nome de \"vars.css\" nesse arquivo basicamente iremos armazenar tudo que for utilizado de forma padrão, como cores, fontes e outras coisas. Serve meio como até uma forma dde formatar o arquivo padrão do CSS.\n",
    "\n",
    "### Revisões feitas pela Luri a IA da Alura:\n",
    "\n",
    "Aqui estão algumas perguntas de múltipla escolha para testar seu conhecimento sobre os conceitos abordados na aula:\n",
    "\n",
    "O que é a função do display: flex no CSS?\n",
    "- Alinhar elementos verticalmente\n",
    "- Criar um layout flexível e responsivo\n",
    "- Definir a cor de fundo\n",
    "- Estilizar fontes\n",
    "\n",
    "Qual é a finalidade das variáveis CSS?\n",
    "- Armazenar valores de cores e fontes para reutilização\n",
    "- Criar animações\n",
    "- Aumentar a performance do site\n",
    "- Definir o tamanho das imagens\n",
    "\n",
    "O que significa justify-content: space-between em um container flex?\n",
    "- Distribui os itens com espaço igual entre eles\n",
    "- Centraliza os itens no container\n",
    "- Alinha os itens à esquerda\n",
    "- Adiciona espaço apenas ao redor do primeiro item\n",
    "\n",
    "Por que é importante usar a tag <main> em um documento HTML?\n",
    "- Para melhorar a estética da página\n",
    "- Para indicar o conteúdo principal da página, ajudando na acessibilidade\n",
    "- Para adicionar mais divs ao HTML\n",
    "- Para definir o cabeçalho da página\n",
    "\n",
    "O que faz a propriedade text-overflow: ellipsis?\n",
    "- Adiciona uma borda ao texto\n",
    "- Faz o texto quebrar em várias linhas\n",
    "- Exibe três pontos (...) quando o texto é muito longo para caber no espaço disponível\n",
    "- Altera a cor do texto\n"
   ]
  },
  {
   "cell_type": "markdown",
   "metadata": {},
   "source": [
    "# Aula 4: CSS Grid, Media Queries e Manipulação do Dom com JavaScript\n",
    "\n"
   ]
  }
 ],
 "metadata": {
  "language_info": {
   "name": "python"
  }
 },
 "nbformat": 4,
 "nbformat_minor": 2
}
